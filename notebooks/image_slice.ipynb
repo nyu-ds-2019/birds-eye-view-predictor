{
 "cells": [
  {
   "cell_type": "code",
   "execution_count": 5,
   "metadata": {},
   "outputs": [],
   "source": [
    "from math import degrees\n",
    "from math import atan2\n",
    "import torchvision\n",
    "\n",
    "a = 400\n",
    "\n",
    "def between_angles(y, x, theta1, theta2):\n",
    "    return degrees(atan2(y, x)) >= theta1 and degrees(atan2(y, x)) <= theta2\n",
    "\n",
    "def in_front(x, y):\n",
    "    return x >= 0 and x <= a and degrees(atan2(y, x)) <= 35 and degrees(atan2(y, x)) >= -35\n",
    "\n",
    "def in_front_left(x, y):\n",
    "    if x == 0:\n",
    "        return y >= 0\n",
    "    \n",
    "    return x <= a and y <= a and between_angles(y, x, 25, 95)\n",
    "\n",
    "def in_front_right(x, y):\n",
    "    if x == 0:\n",
    "        return y <= 0\n",
    "    \n",
    "    return y <= 0 and degrees(atan2(y, x)) <= -25 and degrees(atan2(y, x)) >= -95\n",
    "\n",
    "def in_back(x, y):\n",
    "    return x <= 0 and (between_angles(y, x, 145, 180) or between_angles(y, x, -180, -145))\n",
    "\n",
    "def in_back_left(x, y):\n",
    "    if x == 0:\n",
    "        return y >= 0\n",
    "    \n",
    "    return y >= 0 and between_angles(y, x, 85, 155)\n",
    "\n",
    "def in_back_right(x, y):\n",
    "    if x == 0:\n",
    "        return y <= 0\n",
    "    \n",
    "    return y <= 0 and between_angles(y, x, -155, -85)"
   ]
  },
  {
   "cell_type": "code",
   "execution_count": 7,
   "metadata": {},
   "outputs": [],
   "source": [
    "from PIL import Image\n",
    "\n",
    "def convert_map_to_road_map(ego_map):\n",
    "    mask = (ego_map[0,:,:] == 1) * (ego_map[1,:,:] == 1) * (ego_map[2,:,:] == 1)\n",
    "\n",
    "    return (~mask)\n",
    "\n",
    "def get_color(x):\n",
    "    if x == 1:\n",
    "        return 255\n",
    "    \n",
    "    return 0\n",
    "\n",
    "im = Image.open('/Users/nikhilvs/repos/nyu/vehicle-scene-generator/data/scene_108/sample_86/ego.png')\n",
    "\n",
    "out = Image.new('RGB', im.size, (0, 0, 0))\n",
    "\n",
    "width, height = im.size\n",
    "for x in range(width):\n",
    "    for y in range(height):\n",
    "        r,g,b = im.getpixel((x,y))\n",
    "        if in_back_right(x - a, -y + a):\n",
    "            out.putpixel((x, y), (r, g, b))\n",
    "\n",
    "\n",
    "ego_image = torchvision.transforms.functional.to_tensor(im)\n",
    "road_image = convert_map_to_road_map(ego_image)\n",
    "\n",
    "im = torchvision.transforms.ToPILImage(mode = None)(road_image.int())\n",
    "front = Image.new('L', im.size, 100)\n",
    "front_left = Image.new('L', im.size, 100)\n",
    "front_right = Image.new('L', im.size, 100)\n",
    "back = Image.new('L', im.size, 100)\n",
    "back_left = Image.new('L', im.size, 100)\n",
    "back_right = Image.new('L', im.size, 100)\n",
    "\n",
    "width, height = im.size\n",
    "for x in range(width):\n",
    "    for y in range(height):\n",
    "        c = im.getpixel((x,y))\n",
    "        if in_front(x - a, -y + a):\n",
    "            front.putpixel((x, y), get_color(c))\n",
    "        if in_front_left(x - a, -y + a):\n",
    "            front_left.putpixel((x, y), get_color(c))\n",
    "        if in_front_right(x - a, -y + a):\n",
    "            front_right.putpixel((x, y), get_color(c))\n",
    "        if in_back(x - a, -y + a):\n",
    "            back.putpixel((x, y), get_color(c))\n",
    "        if in_back_left(x - a, -y + a):\n",
    "            back_left.putpixel((x, y), get_color(c))\n",
    "        if in_back_right(x - a, -y + a):\n",
    "            back_right.putpixel((x, y), get_color(c))"
   ]
  },
  {
   "cell_type": "code",
   "execution_count": 20,
   "metadata": {},
   "outputs": [
    {
     "output_type": "execute_result",
     "data": {
      "text/plain": "<PIL.Image.Image image mode=I size=800x800 at 0x12D11EF10>",
      "image/png": "[encoded data removed]"
     },
     "metadata": {},
     "execution_count": 20
    }
   ],
   "source": [
    "i = road_image.int()\n",
    "i[i == 1] = 255\n",
    "torchvision.transforms.ToPILImage(mode = None)(i)\n",
    "\n",
    "# torchvision.transforms.ToPILImage(mode = None)(road_image.int())"
   ]
  },
  {
   "cell_type": "code",
   "execution_count": 16,
   "metadata": {
    "scrolled": true
   },
   "outputs": [
    {
     "output_type": "error",
     "ename": "ModuleNotFoundError",
     "evalue": "No module named 'helper'",
     "traceback": [
      "\u001b[0;31m---------------------------------------------------------------------------\u001b[0m",
      "\u001b[0;31mModuleNotFoundError\u001b[0m                       Traceback (most recent call last)",
      "\u001b[0;32m<ipython-input-16-287a9db4ebb2>\u001b[0m in \u001b[0;36m<module>\u001b[0;34m\u001b[0m\n\u001b[1;32m      5\u001b[0m \u001b[0;34m\u001b[0m\u001b[0m\n\u001b[1;32m      6\u001b[0m \u001b[0;32mfrom\u001b[0m \u001b[0mPIL\u001b[0m \u001b[0;32mimport\u001b[0m \u001b[0mImage\u001b[0m\u001b[0;34m\u001b[0m\u001b[0;34m\u001b[0m\u001b[0m\n\u001b[0;32m----> 7\u001b[0;31m \u001b[0;32mfrom\u001b[0m \u001b[0mhelper\u001b[0m \u001b[0;32mimport\u001b[0m \u001b[0mconvert_map_to_road_map\u001b[0m\u001b[0;34m,\u001b[0m \u001b[0mconvert_map_to_lane_map\u001b[0m\u001b[0;34m\u001b[0m\u001b[0;34m\u001b[0m\u001b[0m\n\u001b[0m\u001b[1;32m      8\u001b[0m \u001b[0;34m\u001b[0m\u001b[0m\n\u001b[1;32m      9\u001b[0m \u001b[0;32mimport\u001b[0m \u001b[0mmultiprocessing\u001b[0m\u001b[0;34m\u001b[0m\u001b[0;34m\u001b[0m\u001b[0m\n",
      "\u001b[0;31mModuleNotFoundError\u001b[0m: No module named 'helper'"
     ]
    }
   ],
   "source": [
    "import torch\n",
    "import torch.nn as nn\n",
    "import torch.nn.functional as F\n",
    "import torchvision\n",
    "\n",
    "from PIL import Image\n",
    "from helper import convert_map_to_road_map, convert_map_to_lane_map\n",
    "\n",
    "import multiprocessing\n",
    "from joblib import Parallel, delayed\n",
    "\n",
    "def get_color(x):\n",
    "    if x == 1:\n",
    "        return 255\n",
    "    \n",
    "    return 0\n",
    "\n",
    "def generate_image(i, j):\n",
    "    ego_path = '/Users/nikhilvs/repos/nyu/vehicle-scene-generator/data/scene_' + str(i) + '/sample_' + str(j) + '/ego.png'\n",
    "    ego_image_1 = Image.open(ego_path)\n",
    "    ego_image = torchvision.transforms.functional.to_tensor(ego_image_1)\n",
    "    road_image = convert_map_to_road_map(ego_image)\n",
    "\n",
    "    im = torchvision.transforms.ToPILImage(mode = None)(road_image.int())\n",
    "    front = Image.new('L', im.size, 100)\n",
    "    front_left = Image.new('L', im.size, 100)\n",
    "    front_right = Image.new('L', im.size, 100)\n",
    "    back = Image.new('L', im.size, 100)\n",
    "    back_left = Image.new('L', im.size, 100)\n",
    "    back_right = Image.new('L', im.size, 100)\n",
    "\n",
    "    width, height = im.size\n",
    "    for x in range(width):\n",
    "        for y in range(height):\n",
    "            c = im.getpixel((x,y))\n",
    "            if in_front(x - a, -y + a):\n",
    "                front.putpixel((x, y), get_color(c))\n",
    "            if in_front_left(x - a, -y + a):\n",
    "                front_left.putpixel((x, y), get_color(c))\n",
    "            if in_front_right(x - a, -y + a):\n",
    "                front_right.putpixel((x, y), get_color(c))\n",
    "            if in_back(x - a, -y + a):\n",
    "                back.putpixel((x, y), get_color(c))\n",
    "            if in_back_left(x - a, -y + a):\n",
    "                back_left.putpixel((x, y), get_color(c))\n",
    "            if in_back_right(x - a, -y + a):\n",
    "                back_right.putpixel((x, y), get_color(c))\n",
    "    \n",
    "    front = front.resize((128, 128), Image.ANTIALIAS)\n",
    "    front_left = front_left.resize((128, 128), Image.ANTIALIAS)\n",
    "    front_right = front_right.resize((128, 128), Image.ANTIALIAS)\n",
    "    back = back.resize((128, 128), Image.ANTIALIAS)\n",
    "    back_left = back_left.resize((128, 128), Image.ANTIALIAS)\n",
    "    back_right = back_right.resize((128, 128), Image.ANTIALIAS)\n",
    "    \n",
    "    front.save('/Users/nikhilvs/repos/nyu/vehicle-scene-generator/parts_data/' + str(i) + '_' + str(j) + '_front.png')\n",
    "    front_left.save('/Users/nikhilvs/repos/nyu/vehicle-scene-generator/parts_data/' + str(i) + '_' + str(j) + '_front_left.png')\n",
    "    front_right.save('/Users/nikhilvs/repos/nyu/vehicle-scene-generator/parts_data/' + str(i) + '_' + str(j) + '_front_right.png')\n",
    "    back.save('/Users/nikhilvs/repos/nyu/vehicle-scene-generator/parts_data/' + str(i) + '_' + str(j) + '_back.png')\n",
    "    back_left.save('/Users/nikhilvs/repos/nyu/vehicle-scene-generator/parts_data/' + str(i) + '_' + str(j) + '_back_left.png')\n",
    "    back_right.save('/Users/nikhilvs/repos/nyu/vehicle-scene-generator/parts_data/' + str(i) + '_' + str(j) + '_back_right.png')\n",
    "\n",
    "\n",
    "x = list(range(106, 134))\n",
    "y = list(range(126))\n",
    "z = [(i, j) for i in x for j in y]\n",
    "\n",
    "Parallel(n_jobs = 8)(delayed(generate_image)(i, j) for (i, j) in z)"
   ]
  },
  {
   "cell_type": "code",
   "execution_count": 139,
   "metadata": {},
   "outputs": [],
   "source": [
    "out.save('/Users/nikhilvs/repos/nyu/vehicle-scene-generator/parts_data/part_0_0.png')"
   ]
  },
  {
   "cell_type": "code",
   "execution_count": 84,
   "metadata": {},
   "outputs": [],
   "source": [
    "out = Image.new('RGB', im.size, (0, 0, 0))\n",
    "width, height = im.size\n",
    "for x in range(width):\n",
    "    for y in range(height):\n",
    "        r,g,b = im.getpixel((x,y))\n",
    "        if in_front_left(x - a, -y + a):\n",
    "            out.putpixel((x, y), (r, g, b))"
   ]
  },
  {
   "cell_type": "code",
   "execution_count": 85,
   "metadata": {
    "scrolled": true
   },
   "outputs": [
    {
     "data": {
      "image/png": "[encoded data removed]",
      "text/plain": [
       "<PIL.Image.Image image mode=RGB size=800x800 at 0x107762588>"
      ]
     },
     "execution_count": 85,
     "metadata": {},
     "output_type": "execute_result"
    }
   ],
   "source": [
    "out"
   ]
  },
  {
   "cell_type": "code",
   "execution_count": 165,
   "metadata": {},
   "outputs": [],
   "source": [
    "ego_path = '/Users/nikhilvs/repos/nyu/vehicle-scene-generator/data/scene_' + str(107) + '/sample_' + str(81) + '/ego.png'\n",
    "ego_image_1 = Image.open(ego_path)\n",
    "ego_image = torchvision.transforms.functional.to_tensor(ego_image_1)\n",
    "road_image = convert_map_to_road_map(ego_image)\n",
    "\n",
    "im = torchvision.transforms.ToPILImage(mode = None)(road_image.int())\n",
    "front_1 = Image.new('L', im.size, 100)\n",
    "\n",
    "width, height = im.size\n",
    "for x in range(width):\n",
    "    for y in range(height):\n",
    "        c = im.getpixel((x,y))\n",
    "        if in_front(x - a, -y + a):\n",
    "            front_1.putpixel((x, y), get_color(c))"
   ]
  },
  {
   "cell_type": "code",
   "execution_count": 166,
   "metadata": {},
   "outputs": [
    {
     "data": {
      "image/png": "[encoded data removed]",
      "text/plain": [
       "<PIL.Image.Image image mode=L size=800x800 at 0x121CD56A0>"
      ]
     },
     "execution_count": 166,
     "metadata": {},
     "output_type": "execute_result"
    }
   ],
   "source": [
    "front_1"
   ]
  },
  {
   "cell_type": "code",
   "execution_count": 167,
   "metadata": {},
   "outputs": [],
   "source": [
    "front = front_1.resize((100, 100), Image.ANTIALIAS)\n",
    "front.save('/Users/nikhilvs/temp/img/' + str(107) + '_' + str(81) + '_front_100.png')"
   ]
  },
  {
   "cell_type": "code",
   "execution_count": 168,
   "metadata": {},
   "outputs": [],
   "source": [
    "front = front_1.resize((128, 128), Image.ANTIALIAS)\n",
    "front.save('/Users/nikhilvs/temp/img/' + str(107) + '_' + str(81) + '_front_128.png')"
   ]
  },
  {
   "cell_type": "code",
   "execution_count": null,
   "metadata": {},
   "outputs": [],
   "source": []
  }
 ],
 "metadata": {
  "kernelspec": {
   "display_name": "Python 3.7.3 64-bit ('base': conda)",
   "language": "python",
   "name": "python37364bitbaseconda5256b649568d47b0ada5f4982042f9e1"
  },
  "language_info": {
   "codemirror_mode": {
    "name": "ipython",
    "version": 3
   },
   "file_extension": ".py",
   "mimetype": "text/x-python",
   "name": "python",
   "nbconvert_exporter": "python",
   "pygments_lexer": "ipython3",
   "version": "3.7.7-final"
  }
 },
 "nbformat": 4,
 "nbformat_minor": 2
}