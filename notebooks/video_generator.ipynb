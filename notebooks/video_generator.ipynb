{
 "cells": [
  {
   "cell_type": "code",
   "execution_count": 7,
   "metadata": {},
   "outputs": [],
   "source": [
    "import cv2\n",
    "import os\n",
    "\n",
    "import numpy as np"
   ]
  },
  {
   "cell_type": "code",
   "execution_count": 22,
   "metadata": {},
   "outputs": [],
   "source": [
    "front_array = []\n",
    "front_left_array = []\n",
    "all_array = []\n",
    "\n",
    "scene = 120\n",
    "view = 'front'\n",
    "samples = list(range(126))\n",
    "app_dir = '/Users/nikhilvs/repos/nyu/birds-eye-view-predictor/artifacts/data/camera_data'\n",
    "size = ()\n",
    "\n",
    "for sample in samples:\n",
    "    image_dir = os.path.join(app_dir, 'scene_' + str(scene), 'sample_' + str(sample))\n",
    "    image_front = cv2.imread(os.path.join(image_dir, 'CAM_FRONT.jpeg'))\n",
    "    image_front_left = cv2.imread(os.path.join(image_dir, 'CAM_FRONT_LEFT.jpeg'))\n",
    "    image_front_right = cv2.imread(os.path.join(image_dir, 'CAM_FRONT_RIGHT.jpeg'))\n",
    "    image_back = cv2.imread(os.path.join(image_dir, 'CAM_BACK.jpeg'))\n",
    "    image_back_left = cv2.imread(os.path.join(image_dir, 'CAM_BACK_LEFT.jpeg'))\n",
    "    image_back_right = cv2.imread(os.path.join(image_dir, 'CAM_BACK_RIGHT.jpeg'))\n",
    "    image_ego = cv2.imread(os.path.join(image_dir, 'ego.png'))\n",
    "\n",
    "    h, w, c = image.shape\n",
    "    size = (int(3 * w / 2), int(2 * h / 2))\n",
    "    full_image_size = (int(3 * w), int(2 * h / 2))\n",
    "\n",
    "    # image_array.append(image_front)\n",
    "    # front_left_array.append(image_front_left)\n",
    "\n",
    "    front_all = np.concatenate((image_front_left, image_front, image_front_right), axis = 1)\n",
    "    back_all = np.concatenate((image_back_left, image_back, image_back_right), axis = 1)\n",
    "\n",
    "    image_all = np.concatenate((front_all, back_all), axis = 0)\n",
    "    image_all = cv2.resize(image_all, size)\n",
    "    image_ego = cv2.resize(image_ego, size)\n",
    "\n",
    "    image_full = np.concatenate((image_all, image_ego), axis = 1)\n",
    "    all_array.append(image_full)\n"
   ]
  },
  {
   "cell_type": "code",
   "execution_count": 23,
   "metadata": {},
   "outputs": [],
   "source": [
    "out = cv2.VideoWriter('all.avi', cv2.VideoWriter_fourcc(*'DIVX'), 15, full_image_size)\n",
    "\n",
    "for i in range(len(all_array)):\n",
    "    out.write(all_array[i])\n",
    "out.release()\n"
   ]
  },
  {
   "cell_type": "markdown",
   "metadata": {},
   "source": []
  }
 ],
 "metadata": {
  "kernelspec": {
   "display_name": "Python 3",
   "language": "python",
   "name": "python3"
  },
  "language_info": {
   "codemirror_mode": {
    "name": "ipython",
    "version": 3
   },
   "file_extension": ".py",
   "mimetype": "text/x-python",
   "name": "python",
   "nbconvert_exporter": "python",
   "pygments_lexer": "ipython3",
   "version": "3.7.7-final"
  }
 },
 "nbformat": 4,
 "nbformat_minor": 4
}