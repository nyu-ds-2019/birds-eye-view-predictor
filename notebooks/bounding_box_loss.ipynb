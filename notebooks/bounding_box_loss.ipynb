{
 "cells": [
  {
   "cell_type": "code",
   "execution_count": null,
   "metadata": {},
   "outputs": [],
   "source": [
    "def calc_l2(a, b):\n",
    "    '''\n",
    "        size of a: [batch_size, number_of_coordinates_to_be_predicted * 2]\n",
    "        size of b: [batch_size, number_of_coordinates_to_be_predicted * 2]\n",
    "    '''\n",
    "\n",
    "\n",
    "def my_loss(output, target):\n",
    "    '''\n",
    "        size of output: [batch_size, num_bounding_boxes_predicted * ((number_of_coordinates_to_be_predicted * 2) + 1)]\n",
    "        size of target: [batch_size, num_bounding_boxes_ground_truth * (number_of_coordinates_to_be_predicted * 2)]\n",
    "\n",
    "        e.g.\n",
    "        number_of_coordinates_to_be_predicted = 2\n",
    "        num_bounding_boxes_predicted = 100\n",
    "        num_bounding_boxes_ground_truth = 20\n",
    "        batch_size = 1\n",
    "\n",
    "        size of output: [1, 100 * (2 * 2 + 1)] = [1, 500]\n",
    "        size of target: [1, 20 * (2 * 2)] = [1, 80]\n",
    "    '''\n",
    "\n",
    "    number_of_coordinates_to_be_predicted = 2\n",
    "\n",
    "    len_output = output.shape[1]\n",
    "    num_bounding_boxes_predicted = len_output / ((number_of_coordinates_to_be_predicted * 2) + 1)\n",
    "\n",
    "    len_target = target.shape[1]\n",
    "    num_bounding_boxes_ground_truth = len_target / (number_of_coordinates_to_be_predicted * 2)\n",
    "\n",
    "    x = torch.zeros([num_bounding_boxes_predicted, num_bounding_boxes_ground_truth])\n",
    "    output[:, 0:4]\n",
    "    for i in range(num_bounding_boxes_predicted):\n",
    "        min_distance = 1e6\n",
    "        min_j_for_i = -1\n",
    "\n",
    "        for j in range(num_bounding_boxes_ground_truth):\n",
    "            distance = calc_l2(output[:, 5 * i : 5 * i + (number_of_coordinates_to_be_predicted * 2)], target(:, 4 * j : 4 * j + (number_of_coordinates_to_be_predicted * 2)))\n",
    "            if distance < min_distance:\n",
    "                min_distance = distance\n",
    "                min_j_for_i = j\n",
    "\n",
    "        x[i][min_j_for_i] = 1\n",
    "\n",
    "    loss = torch.mean((output - target)**2)\n",
    "    return loss"
   ]
  }
 ],
 "metadata": {
  "language_info": {
   "codemirror_mode": {
    "name": "ipython",
    "version": 3
   },
   "file_extension": ".py",
   "mimetype": "text/x-python",
   "name": "python",
   "nbconvert_exporter": "python",
   "pygments_lexer": "ipython3",
   "version": 3
  },
  "orig_nbformat": 2
 },
 "nbformat": 4,
 "nbformat_minor": 2
}