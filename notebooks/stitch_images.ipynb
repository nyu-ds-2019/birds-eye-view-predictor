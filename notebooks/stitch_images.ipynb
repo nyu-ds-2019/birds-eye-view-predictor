{
 "cells": [
  {
   "cell_type": "code",
   "execution_count": 2,
   "metadata": {},
   "outputs": [],
   "source": [
    "# Import some libraries\n",
    "\n",
    "import torch\n",
    "import torchvision\n",
    "from torch import nn\n",
    "from torch.utils.data import DataLoader\n",
    "from torchvision import transforms\n",
    "import torchvision.datasets as datasets\n",
    "\n",
    "import os\n",
    "import pickle\n",
    "import numpy as np\n",
    "\n",
    "from PIL import Image\n",
    "from skimage import io\n",
    "\n",
    "from matplotlib import pyplot as plt\n",
    "%matplotlib inline\n",
    "\n",
    "import matplotlib as mpl\n",
    "mpl.rcParams['axes.grid'] = False\n",
    "mpl.rcParams['image.interpolation'] = 'nearest'\n",
    "mpl.rcParams['figure.figsize'] = 15, 25\n",
    "\n",
    "%matplotlib inline\n",
    "%load_ext autoreload\n",
    "%autoreload 2"
   ]
  },
  {
   "cell_type": "code",
   "execution_count": 7,
   "metadata": {},
   "outputs": [],
   "source": [
    "a = 64\n",
    "from math import *\n",
    "\n",
    "def between_angles(y, x, theta1, theta2):\n",
    "    return degrees(atan2(y, x)) >= theta1 and degrees(atan2(y, x)) <= theta2\n",
    "\n",
    "def in_front(x, y):\n",
    "    return x >= 0 and x <= a and degrees(atan2(y, x)) <= 35 and degrees(atan2(y, x)) >= -35\n",
    "\n",
    "def in_front_left(x, y):\n",
    "    if x == 0:\n",
    "        return y >= 0\n",
    "    \n",
    "    return x <= a and y <= a and between_angles(y, x, 25, 95)\n",
    "\n",
    "def in_front_right(x, y):\n",
    "    if x == 0:\n",
    "        return y <= 0\n",
    "    \n",
    "    return y <= 0 and degrees(atan2(y, x)) <= -25 and degrees(atan2(y, x)) >= -95\n",
    "\n",
    "def in_back(x, y):\n",
    "    return x <= 0 and (between_angles(y, x, 145, 180) or between_angles(y, x, -180, -145))\n",
    "\n",
    "def in_back_left(x, y):\n",
    "    if x == 0:\n",
    "        return y >= 0\n",
    "    \n",
    "    return y >= 0 and between_angles(y, x, 85, 155)\n",
    "\n",
    "def in_back_right(x, y):\n",
    "    if x == 0:\n",
    "        return y <= 0\n",
    "    \n",
    "    return y <= 0 and between_angles(y, x, -155, -85)\n",
    "\n",
    "def find_regions(x, y):\n",
    "    regions = []\n",
    "\n",
    "    if in_front_left(x, y):\n",
    "        regions.append(1)\n",
    "    if in_front(x, y):\n",
    "        regions.append(2)\n",
    "    if in_front_right(x, y):\n",
    "        regions.append(3)\n",
    "    if in_back_left(x, y):\n",
    "        regions.append(4)\n",
    "    if in_back(x, y):\n",
    "        regions.append(5)\n",
    "    if in_back_right(x, y):\n",
    "        regions.append(6)\n",
    "    \n",
    "    return regions\n",
    "\n",
    "def region_picker(region1, region2):\n",
    "    resolve_map = {\n",
    "        (1, 2): 1,\n",
    "        (2, 3): 2,\n",
    "        (4, 5): 5,\n",
    "        (5, 6): 6,\n",
    "        (1 ,4): 4,\n",
    "        (3, 6): 3\n",
    "    }\n",
    "\n",
    "    return resolve_map[(region1, region2)]\n",
    "\n",
    "def resolve_color(x, y, images):\n",
    "    regions = find_regions(x - a, -y + a)\n",
    "    # print(regions)\n",
    "    if len(regions) == 1:\n",
    "        region = regions[0]\n",
    "        return images[region - 1].getpixel((x, y))\n",
    "    \n",
    "    return images[region_picker(regions[0], regions[1]) - 1].getpixel((x, y))\n",
    "\n",
    "def stitch_images(images):\n",
    "    front_left = torchvision.transforms.ToPILImage(mode = None)(images[0])\n",
    "    front = torchvision.transforms.ToPILImage(mode = None)(images[1])\n",
    "    front_right = torchvision.transforms.ToPILImage(mode = None)(images[2])\n",
    "    back_left = torchvision.transforms.ToPILImage(mode = None)(images[3])\n",
    "    back = torchvision.transforms.ToPILImage(mode = None)(images[4])\n",
    "    back_right = torchvision.transforms.ToPILImage(mode = None)(images[5])\n",
    "\n",
    "    images_pil = [\n",
    "        front_left,\n",
    "        front,\n",
    "        front_right,\n",
    "        back_left,\n",
    "        back,\n",
    "        back_right\n",
    "    ]\n",
    "\n",
    "    ego = Image.new('RGB', front.size, (0, 0, 0))\n",
    "\n",
    "    a = 64\n",
    "\n",
    "    width, height = front.size\n",
    "    for x in range(width):\n",
    "        for y in range(height):\n",
    "            c = resolve_color(x, y, images_pil)\n",
    "            ego.putpixel((x, y), c)\n",
    "\n",
    "    return ego"
   ]
  },
  {
   "cell_type": "code",
   "execution_count": 6,
   "metadata": {},
   "outputs": [
    {
     "output_type": "execute_result",
     "data": {
      "text/plain": "<PIL.Image.Image image mode=RGB size=800x800 at 0x61F840A58>",
      "image/png": "[encoded data removed]"
     },
     "metadata": {},
     "execution_count": 6
    }
   ],
   "source": [
    "scene = 120 \n",
    "sample = 0\n",
    "\n",
    "data_loc = '/Users/nikhilvs/repos/nyu/vehicle-scene-generator/parts_data'\n",
    "image_name = str(scene) + '_' + str(sample)\n",
    "\n",
    "front_left = Image.open(os.path.join(data_loc, image_name + '_front_left.png'))\n",
    "front = Image.open(os.path.join(data_loc, image_name + '_front.png'))\n",
    "front_right = Image.open(os.path.join(data_loc, image_name + '_front_right.png'))\n",
    "back_left = Image.open(os.path.join(data_loc, image_name + '_back_left.png'))\n",
    "back = Image.open(os.path.join(data_loc, image_name + '_back.png'))\n",
    "back_right = Image.open(os.path.join(data_loc, image_name + '_back_right.png'))\n",
    "\n",
    "front_left = torchvision.transforms.functional.to_tensor(front_left)\n",
    "front = torchvision.transforms.functional.to_tensor(front)\n",
    "front_right = torchvision.transforms.functional.to_tensor(front_right)\n",
    "back_left = torchvision.transforms.functional.to_tensor(back_left)\n",
    "back = torchvision.transforms.functional.to_tensor(back)\n",
    "back_right = torchvision.transforms.functional.to_tensor(back_right)\n",
    "\n",
    "images = [\n",
    "    front_left,\n",
    "    front,\n",
    "    front_right,\n",
    "    back_left,\n",
    "    back,\n",
    "    back_right\n",
    "]\n",
    "\n",
    "ego = stitch_images(images)\n",
    "ego = ego.resize((800, 800))\n",
    "ego"
   ]
  },
  {
   "cell_type": "code",
   "execution_count": 5,
   "metadata": {},
   "outputs": [
    {
     "output_type": "execute_result",
     "data": {
      "text/plain": "tensor([[[0.3922, 0.3922, 0.3922,  ..., 0.3922, 0.3922, 0.3922],\n         [0.3922, 0.3922, 0.3922,  ..., 0.3922, 0.3922, 0.3922],\n         [0.3922, 0.3922, 0.3922,  ..., 0.3922, 0.3922, 0.3922],\n         ...,\n         [0.3922, 0.3922, 0.3922,  ..., 0.3922, 0.3922, 0.3922],\n         [0.3922, 0.3922, 0.3922,  ..., 0.3922, 0.3922, 0.3922],\n         [0.3922, 0.3922, 0.3922,  ..., 0.3922, 0.3922, 0.3922]]])"
     },
     "metadata": {},
     "execution_count": 5
    }
   ],
   "source": [
    "front"
   ]
  },
  {
   "cell_type": "code",
   "execution_count": 1,
   "metadata": {},
   "outputs": [
    {
     "output_type": "error",
     "ename": "NameError",
     "evalue": "name 'torchvision' is not defined",
     "traceback": [
      "\u001b[0;31m---------------------------------------------------------------------------\u001b[0m",
      "\u001b[0;31mNameError\u001b[0m                                 Traceback (most recent call last)",
      "\u001b[0;32m<ipython-input-1-7949716e0450>\u001b[0m in \u001b[0;36m<module>\u001b[0;34m\u001b[0m\n\u001b[0;32m----> 1\u001b[0;31m \u001b[0mtorchvision\u001b[0m\u001b[0;34m.\u001b[0m\u001b[0mtransforms\u001b[0m\u001b[0;34m.\u001b[0m\u001b[0mToPILImage\u001b[0m\u001b[0;34m(\u001b[0m\u001b[0mmode\u001b[0m \u001b[0;34m=\u001b[0m \u001b[0;32mNone\u001b[0m\u001b[0;34m)\u001b[0m\u001b[0;34m(\u001b[0m\u001b[0mfront\u001b[0m\u001b[0;34m)\u001b[0m\u001b[0;34m\u001b[0m\u001b[0;34m\u001b[0m\u001b[0m\n\u001b[0m",
      "\u001b[0;31mNameError\u001b[0m: name 'torchvision' is not defined"
     ]
    }
   ],
   "source": [
    "torchvision.transforms.ToPILImage(mode = None)(front)\n"
   ]
  },
  {
   "cell_type": "code",
   "execution_count": null,
   "metadata": {},
   "outputs": [],
   "source": []
  }
 ],
 "metadata": {
  "kernelspec": {
   "display_name": "Python 3",
   "language": "python",
   "name": "python3"
  },
  "language_info": {
   "codemirror_mode": {
    "name": "ipython",
    "version": 3
   },
   "file_extension": ".py",
   "mimetype": "text/x-python",
   "name": "python",
   "nbconvert_exporter": "python",
   "pygments_lexer": "ipython3",
   "version": "3.7.3-final"
  }
 },
 "nbformat": 4,
 "nbformat_minor": 4
}