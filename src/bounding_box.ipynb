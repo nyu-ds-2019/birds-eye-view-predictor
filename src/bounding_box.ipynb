{
 "cells": [
  {
   "cell_type": "code",
   "execution_count": 1,
   "metadata": {},
   "outputs": [],
   "source": [
    "# Import some libraries\n",
    "\n",
    "import torch\n",
    "import torchvision\n",
    "from torch import nn\n",
    "from torch.utils.data import DataLoader\n",
    "from torchvision import transforms\n",
    "import torchvision.datasets as datasets\n",
    "\n",
    "import os\n",
    "import pickle\n",
    "import numpy as np\n",
    "\n",
    "from skimage import io\n",
    "\n",
    "from matplotlib import pyplot as plt\n",
    "%matplotlib inline\n",
    "\n",
    "import matplotlib as mpl\n",
    "mpl.rcParams['axes.grid'] = False\n",
    "mpl.rcParams['image.interpolation'] = 'nearest'\n",
    "mpl.rcParams['figure.figsize'] = 15, 25\n",
    "\n",
    "%matplotlib inline\n",
    "%load_ext autoreload\n",
    "%autoreload 2"
   ]
  },
  {
   "cell_type": "code",
   "execution_count": 2,
   "metadata": {},
   "outputs": [],
   "source": [
    "import pandas as pd \n",
    "\n",
    "df = pd.read_csv('/Users/nikhilvs/repos/nyu/birds-eye-view-predictor/artifacts/data/camera_data/annotation.csv')\n",
    "\n"
   ]
  },
  {
   "cell_type": "code",
   "execution_count": 16,
   "metadata": {},
   "outputs": [
    {
     "output_type": "execute_result",
     "data": {
      "text/plain": "                       action  fl_x  fr_x  bl_x  br_x  fl_y  fr_y  bl_y  br_y  \\\nscene sample category                                                           \n110   90     car            1     1     1     1     1     1     1     1     1   \n      99     car            1     1     1     1     1     1     1     1     1   \n      100    car            1     1     1     1     1     1     1     1     1   \n      101    car            1     1     1     1     1     1     1     1     1   \n      112    car            1     1     1     1     1     1     1     1     1   \n...                       ...   ...   ...   ...   ...   ...   ...   ...   ...   \n127   38     car           47    47    47    47    47    47    47    47    47   \n      41     car           47    47    47    47    47    47    47    47    47   \n      35     car           48    48    48    48    48    48    48    48    48   \n      34     car           48    48    48    48    48    48    48    48    48   \n      33     car           49    49    49    49    49    49    49    49    49   \n\n                       category_id  action_id  new_scene  \nscene sample category                                     \n110   90     car                 1          1          1  \n      99     car                 1          1          1  \n      100    car                 1          1          1  \n      101    car                 1          1          1  \n      112    car                 1          1          1  \n...                            ...        ...        ...  \n127   38     car                47         47         47  \n      41     car                47         47         47  \n      35     car                48         48         48  \n      34     car                48         48         48  \n      33     car                49         49         49  \n\n[3503 rows x 12 columns]",
      "text/html": "<div>\n<style scoped>\n    .dataframe tbody tr th:only-of-type {\n        vertical-align: middle;\n    }\n\n    .dataframe tbody tr th {\n        vertical-align: top;\n    }\n\n    .dataframe thead th {\n        text-align: right;\n    }\n</style>\n<table border=\"1\" class=\"dataframe\">\n  <thead>\n    <tr style=\"text-align: right;\">\n      <th></th>\n      <th></th>\n      <th></th>\n      <th>action</th>\n      <th>fl_x</th>\n      <th>fr_x</th>\n      <th>bl_x</th>\n      <th>br_x</th>\n      <th>fl_y</th>\n      <th>fr_y</th>\n      <th>bl_y</th>\n      <th>br_y</th>\n      <th>category_id</th>\n      <th>action_id</th>\n      <th>new_scene</th>\n    </tr>\n    <tr>\n      <th>scene</th>\n      <th>sample</th>\n      <th>category</th>\n      <th></th>\n      <th></th>\n      <th></th>\n      <th></th>\n      <th></th>\n      <th></th>\n      <th></th>\n      <th></th>\n      <th></th>\n      <th></th>\n      <th></th>\n      <th></th>\n    </tr>\n  </thead>\n  <tbody>\n    <tr>\n      <th rowspan=\"5\" valign=\"top\">110</th>\n      <th>90</th>\n      <th>car</th>\n      <td>1</td>\n      <td>1</td>\n      <td>1</td>\n      <td>1</td>\n      <td>1</td>\n      <td>1</td>\n      <td>1</td>\n      <td>1</td>\n      <td>1</td>\n      <td>1</td>\n      <td>1</td>\n      <td>1</td>\n    </tr>\n    <tr>\n      <th>99</th>\n      <th>car</th>\n      <td>1</td>\n      <td>1</td>\n      <td>1</td>\n      <td>1</td>\n      <td>1</td>\n      <td>1</td>\n      <td>1</td>\n      <td>1</td>\n      <td>1</td>\n      <td>1</td>\n      <td>1</td>\n      <td>1</td>\n    </tr>\n    <tr>\n      <th>100</th>\n      <th>car</th>\n      <td>1</td>\n      <td>1</td>\n      <td>1</td>\n      <td>1</td>\n      <td>1</td>\n      <td>1</td>\n      <td>1</td>\n      <td>1</td>\n      <td>1</td>\n      <td>1</td>\n      <td>1</td>\n      <td>1</td>\n    </tr>\n    <tr>\n      <th>101</th>\n      <th>car</th>\n      <td>1</td>\n      <td>1</td>\n      <td>1</td>\n      <td>1</td>\n      <td>1</td>\n      <td>1</td>\n      <td>1</td>\n      <td>1</td>\n      <td>1</td>\n      <td>1</td>\n      <td>1</td>\n      <td>1</td>\n    </tr>\n    <tr>\n      <th>112</th>\n      <th>car</th>\n      <td>1</td>\n      <td>1</td>\n      <td>1</td>\n      <td>1</td>\n      <td>1</td>\n      <td>1</td>\n      <td>1</td>\n      <td>1</td>\n      <td>1</td>\n      <td>1</td>\n      <td>1</td>\n      <td>1</td>\n    </tr>\n    <tr>\n      <th>...</th>\n      <th>...</th>\n      <th>...</th>\n      <td>...</td>\n      <td>...</td>\n      <td>...</td>\n      <td>...</td>\n      <td>...</td>\n      <td>...</td>\n      <td>...</td>\n      <td>...</td>\n      <td>...</td>\n      <td>...</td>\n      <td>...</td>\n      <td>...</td>\n    </tr>\n    <tr>\n      <th rowspan=\"5\" valign=\"top\">127</th>\n      <th>38</th>\n      <th>car</th>\n      <td>47</td>\n      <td>47</td>\n      <td>47</td>\n      <td>47</td>\n      <td>47</td>\n      <td>47</td>\n      <td>47</td>\n      <td>47</td>\n      <td>47</td>\n      <td>47</td>\n      <td>47</td>\n      <td>47</td>\n    </tr>\n    <tr>\n      <th>41</th>\n      <th>car</th>\n      <td>47</td>\n      <td>47</td>\n      <td>47</td>\n      <td>47</td>\n      <td>47</td>\n      <td>47</td>\n      <td>47</td>\n      <td>47</td>\n      <td>47</td>\n      <td>47</td>\n      <td>47</td>\n      <td>47</td>\n    </tr>\n    <tr>\n      <th>35</th>\n      <th>car</th>\n      <td>48</td>\n      <td>48</td>\n      <td>48</td>\n      <td>48</td>\n      <td>48</td>\n      <td>48</td>\n      <td>48</td>\n      <td>48</td>\n      <td>48</td>\n      <td>48</td>\n      <td>48</td>\n      <td>48</td>\n    </tr>\n    <tr>\n      <th>34</th>\n      <th>car</th>\n      <td>48</td>\n      <td>48</td>\n      <td>48</td>\n      <td>48</td>\n      <td>48</td>\n      <td>48</td>\n      <td>48</td>\n      <td>48</td>\n      <td>48</td>\n      <td>48</td>\n      <td>48</td>\n      <td>48</td>\n    </tr>\n    <tr>\n      <th>33</th>\n      <th>car</th>\n      <td>49</td>\n      <td>49</td>\n      <td>49</td>\n      <td>49</td>\n      <td>49</td>\n      <td>49</td>\n      <td>49</td>\n      <td>49</td>\n      <td>49</td>\n      <td>49</td>\n      <td>49</td>\n      <td>49</td>\n    </tr>\n  </tbody>\n</table>\n<p>3503 rows × 12 columns</p>\n</div>"
     },
     "metadata": {},
     "execution_count": 16
    }
   ],
   "source": [
    "df2 = df[df['category'] == 'car'].groupby(['scene', 'sample', 'category']).count()\n",
    "\n",
    "df2.sort_values('action')"
   ]
  },
  {
   "cell_type": "code",
   "execution_count": 8,
   "metadata": {},
   "outputs": [
    {
     "output_type": "execute_result",
     "data": {
      "text/plain": "   scene  sample                                  action    category  \\\n0    111       0  object_action_driving_straight_forward         car   \n1    111       0                    object_action_parked         car   \n2    111       0                   object_action_walking  pedestrian   \n3    111       0  object_action_driving_straight_forward         car   \n4    111       0  object_action_driving_straight_forward         car   \n\n        fl_x       fr_x       bl_x       br_x       fl_y       fr_y  \\\n0 -14.270185 -14.286638  -9.696476  -9.712929  19.254325  21.132901   \n1  -5.902891  -5.657694  -1.628863  -1.383666  29.164061  31.026680   \n2  37.068518  36.283792  37.300167  36.515442 -20.233128 -20.032588   \n3   1.972478   1.988930  -2.744222  -2.727770   8.132214   6.253638   \n4  39.051316  39.067769  34.334616  34.351068   5.287296   3.408720   \n\n        bl_y       br_y  category_id  action_id  new_scene  \n0  19.294995  21.173571            2          1        111  \n1  28.602180  30.464799            2          0        111  \n2 -19.327417 -19.126877            3          2        111  \n3   8.090272   6.211696            2          1        111  \n4   5.245354   3.366778            2          1        111  ",
      "text/html": "<div>\n<style scoped>\n    .dataframe tbody tr th:only-of-type {\n        vertical-align: middle;\n    }\n\n    .dataframe tbody tr th {\n        vertical-align: top;\n    }\n\n    .dataframe thead th {\n        text-align: right;\n    }\n</style>\n<table border=\"1\" class=\"dataframe\">\n  <thead>\n    <tr style=\"text-align: right;\">\n      <th></th>\n      <th>scene</th>\n      <th>sample</th>\n      <th>action</th>\n      <th>category</th>\n      <th>fl_x</th>\n      <th>fr_x</th>\n      <th>bl_x</th>\n      <th>br_x</th>\n      <th>fl_y</th>\n      <th>fr_y</th>\n      <th>bl_y</th>\n      <th>br_y</th>\n      <th>category_id</th>\n      <th>action_id</th>\n      <th>new_scene</th>\n    </tr>\n  </thead>\n  <tbody>\n    <tr>\n      <th>0</th>\n      <td>111</td>\n      <td>0</td>\n      <td>object_action_driving_straight_forward</td>\n      <td>car</td>\n      <td>-14.270185</td>\n      <td>-14.286638</td>\n      <td>-9.696476</td>\n      <td>-9.712929</td>\n      <td>19.254325</td>\n      <td>21.132901</td>\n      <td>19.294995</td>\n      <td>21.173571</td>\n      <td>2</td>\n      <td>1</td>\n      <td>111</td>\n    </tr>\n    <tr>\n      <th>1</th>\n      <td>111</td>\n      <td>0</td>\n      <td>object_action_parked</td>\n      <td>car</td>\n      <td>-5.902891</td>\n      <td>-5.657694</td>\n      <td>-1.628863</td>\n      <td>-1.383666</td>\n      <td>29.164061</td>\n      <td>31.026680</td>\n      <td>28.602180</td>\n      <td>30.464799</td>\n      <td>2</td>\n      <td>0</td>\n      <td>111</td>\n    </tr>\n    <tr>\n      <th>2</th>\n      <td>111</td>\n      <td>0</td>\n      <td>object_action_walking</td>\n      <td>pedestrian</td>\n      <td>37.068518</td>\n      <td>36.283792</td>\n      <td>37.300167</td>\n      <td>36.515442</td>\n      <td>-20.233128</td>\n      <td>-20.032588</td>\n      <td>-19.327417</td>\n      <td>-19.126877</td>\n      <td>3</td>\n      <td>2</td>\n      <td>111</td>\n    </tr>\n    <tr>\n      <th>3</th>\n      <td>111</td>\n      <td>0</td>\n      <td>object_action_driving_straight_forward</td>\n      <td>car</td>\n      <td>1.972478</td>\n      <td>1.988930</td>\n      <td>-2.744222</td>\n      <td>-2.727770</td>\n      <td>8.132214</td>\n      <td>6.253638</td>\n      <td>8.090272</td>\n      <td>6.211696</td>\n      <td>2</td>\n      <td>1</td>\n      <td>111</td>\n    </tr>\n    <tr>\n      <th>4</th>\n      <td>111</td>\n      <td>0</td>\n      <td>object_action_driving_straight_forward</td>\n      <td>car</td>\n      <td>39.051316</td>\n      <td>39.067769</td>\n      <td>34.334616</td>\n      <td>34.351068</td>\n      <td>5.287296</td>\n      <td>3.408720</td>\n      <td>5.245354</td>\n      <td>3.366778</td>\n      <td>2</td>\n      <td>1</td>\n      <td>111</td>\n    </tr>\n  </tbody>\n</table>\n</div>"
     },
     "metadata": {},
     "execution_count": 8
    }
   ],
   "source": [
    "df.head()"
   ]
  },
  {
   "cell_type": "code",
   "execution_count": 19,
   "metadata": {},
   "outputs": [],
   "source": [
    "import torch\n",
    "from torch import nn\n",
    "from torchvision import models\n",
    "\n",
    "device = torch.device(\"cuda:0\" if torch.cuda.is_available() else \"cpu\")\n",
    "\n",
    "model = models.resnet18()\n",
    "model.fc = nn.Linear(512, 500)\n",
    "criterion = nn.MSELoss()\n",
    "model = model.to(device)\n",
    "\n",
    "\n",
    "batch_size = 32\n",
    "workers = 2\n",
    "\n"
   ]
  },
  {
   "cell_type": "code",
   "execution_count": 25,
   "metadata": {},
   "outputs": [
    {
     "output_type": "stream",
     "name": "stdout",
     "text": "----------------------------------------------------------------\n        Layer (type)               Output Shape         Param #\n================================================================\n            Conv2d-1         [-1, 64, 128, 153]           9,408\n       BatchNorm2d-2         [-1, 64, 128, 153]             128\n              ReLU-3         [-1, 64, 128, 153]               0\n         MaxPool2d-4           [-1, 64, 64, 77]               0\n            Conv2d-5           [-1, 64, 64, 77]          36,864\n       BatchNorm2d-6           [-1, 64, 64, 77]             128\n              ReLU-7           [-1, 64, 64, 77]               0\n            Conv2d-8           [-1, 64, 64, 77]          36,864\n       BatchNorm2d-9           [-1, 64, 64, 77]             128\n             ReLU-10           [-1, 64, 64, 77]               0\n       BasicBlock-11           [-1, 64, 64, 77]               0\n           Conv2d-12           [-1, 64, 64, 77]          36,864\n      BatchNorm2d-13           [-1, 64, 64, 77]             128\n             ReLU-14           [-1, 64, 64, 77]               0\n           Conv2d-15           [-1, 64, 64, 77]          36,864\n      BatchNorm2d-16           [-1, 64, 64, 77]             128\n             ReLU-17           [-1, 64, 64, 77]               0\n       BasicBlock-18           [-1, 64, 64, 77]               0\n           Conv2d-19          [-1, 128, 32, 39]          73,728\n      BatchNorm2d-20          [-1, 128, 32, 39]             256\n             ReLU-21          [-1, 128, 32, 39]               0\n           Conv2d-22          [-1, 128, 32, 39]         147,456\n      BatchNorm2d-23          [-1, 128, 32, 39]             256\n           Conv2d-24          [-1, 128, 32, 39]           8,192\n      BatchNorm2d-25          [-1, 128, 32, 39]             256\n             ReLU-26          [-1, 128, 32, 39]               0\n       BasicBlock-27          [-1, 128, 32, 39]               0\n           Conv2d-28          [-1, 128, 32, 39]         147,456\n      BatchNorm2d-29          [-1, 128, 32, 39]             256\n             ReLU-30          [-1, 128, 32, 39]               0\n           Conv2d-31          [-1, 128, 32, 39]         147,456\n      BatchNorm2d-32          [-1, 128, 32, 39]             256\n             ReLU-33          [-1, 128, 32, 39]               0\n       BasicBlock-34          [-1, 128, 32, 39]               0\n           Conv2d-35          [-1, 256, 16, 20]         294,912\n      BatchNorm2d-36          [-1, 256, 16, 20]             512\n             ReLU-37          [-1, 256, 16, 20]               0\n           Conv2d-38          [-1, 256, 16, 20]         589,824\n      BatchNorm2d-39          [-1, 256, 16, 20]             512\n           Conv2d-40          [-1, 256, 16, 20]          32,768\n      BatchNorm2d-41          [-1, 256, 16, 20]             512\n             ReLU-42          [-1, 256, 16, 20]               0\n       BasicBlock-43          [-1, 256, 16, 20]               0\n           Conv2d-44          [-1, 256, 16, 20]         589,824\n      BatchNorm2d-45          [-1, 256, 16, 20]             512\n             ReLU-46          [-1, 256, 16, 20]               0\n           Conv2d-47          [-1, 256, 16, 20]         589,824\n      BatchNorm2d-48          [-1, 256, 16, 20]             512\n             ReLU-49          [-1, 256, 16, 20]               0\n       BasicBlock-50          [-1, 256, 16, 20]               0\n           Conv2d-51           [-1, 512, 8, 10]       1,179,648\n      BatchNorm2d-52           [-1, 512, 8, 10]           1,024\n             ReLU-53           [-1, 512, 8, 10]               0\n           Conv2d-54           [-1, 512, 8, 10]       2,359,296\n      BatchNorm2d-55           [-1, 512, 8, 10]           1,024\n           Conv2d-56           [-1, 512, 8, 10]         131,072\n      BatchNorm2d-57           [-1, 512, 8, 10]           1,024\n             ReLU-58           [-1, 512, 8, 10]               0\n       BasicBlock-59           [-1, 512, 8, 10]               0\n           Conv2d-60           [-1, 512, 8, 10]       2,359,296\n      BatchNorm2d-61           [-1, 512, 8, 10]           1,024\n             ReLU-62           [-1, 512, 8, 10]               0\n           Conv2d-63           [-1, 512, 8, 10]       2,359,296\n      BatchNorm2d-64           [-1, 512, 8, 10]           1,024\n             ReLU-65           [-1, 512, 8, 10]               0\n       BasicBlock-66           [-1, 512, 8, 10]               0\nAdaptiveAvgPool2d-67            [-1, 512, 1, 1]               0\n           Linear-68                  [-1, 500]         256,500\n================================================================\nTotal params: 11,433,012\nTrainable params: 11,433,012\nNon-trainable params: 0\n----------------------------------------------------------------\nInput size (MB): 0.90\nForward/backward pass size (MB): 99.29\nParams size (MB): 43.61\nEstimated Total Size (MB): 143.80\n----------------------------------------------------------------\n"
    }
   ],
   "source": [
    "from torchsummary import summary\n",
    "\n",
    "summary(model, (3, 256, 306))"
   ]
  },
  {
   "cell_type": "code",
   "execution_count": 28,
   "metadata": {},
   "outputs": [
    {
     "output_type": "execute_result",
     "data": {
      "text/plain": "torch.Size([1, 500])"
     },
     "metadata": {},
     "execution_count": 28
    }
   ],
   "source": [
    "x = torch.randn((1, 3, 256, 306))\n",
    "model(x).shape"
   ]
  },
  {
   "cell_type": "code",
   "execution_count": null,
   "metadata": {},
   "outputs": [],
   "source": []
  }
 ],
 "metadata": {
  "kernelspec": {
   "display_name": "Python 3.7.3 64-bit ('base': conda)",
   "language": "python",
   "name": "python37364bitbaseconda5256b649568d47b0ada5f4982042f9e1"
  },
  "language_info": {
   "codemirror_mode": {
    "name": "ipython",
    "version": 3
   },
   "file_extension": ".py",
   "mimetype": "text/x-python",
   "name": "python",
   "nbconvert_exporter": "python",
   "pygments_lexer": "ipython3",
   "version": "3.7.7-final"
  }
 },
 "nbformat": 4,
 "nbformat_minor": 4
}